{
 "cells": [
  {
   "cell_type": "code",
   "execution_count": 1,
   "metadata": {},
   "outputs": [],
   "source": [
    "from core.search.query_paper_mag import author_paper_mag_multiquery\n",
    "from get_links                   import *\n",
    "\n",
    "import pandas as pd\n",
    "import numpy as np"
   ]
  },
  {
   "cell_type": "code",
   "execution_count": 2,
   "metadata": {},
   "outputs": [],
   "source": [
    "def link_pandas(links):\n",
    "    ''' Turns the dictionary into pandas df.\n",
    "    '''\n",
    "    res_list = list()\n",
    "    for paper_id, link_dict in links.items():\n",
    "        link_dict['PaperId'] = paper_id\n",
    "        res_list.append(link_dict)\n",
    "\n",
    "    res_df = pd.DataFrame(res_list)\n",
    "    res_df.set_index('PaperId', inplace=True)\n",
    "    return res_df"
   ]
  },
  {
   "cell_type": "code",
   "execution_count": 3,
   "metadata": {},
   "outputs": [],
   "source": [
    "# Generate the paper ids for an author\n",
    "\n",
    "author_ids = [2100918400] # Lexing Xie, 137 Papers\n",
    "\n",
    "# Paper ids\n",
    "paper_ids = author_paper_mag_multiquery(author_ids)"
   ]
  },
  {
   "cell_type": "code",
   "execution_count": 4,
   "metadata": {},
   "outputs": [
    {
     "name": "stdout",
     "output_type": "stream",
     "text": [
      "Number of papers: 137\n"
     ]
    }
   ],
   "source": [
    "# Paper information\n",
    "print('Number of papers:', len(paper_ids))"
   ]
  },
  {
   "cell_type": "code",
   "execution_count": 8,
   "metadata": {},
   "outputs": [
    {
     "data": {
      "text/plain": [
       "{2100918400: 4852}"
      ]
     },
     "execution_count": 8,
     "metadata": {},
     "output_type": "execute_result"
    }
   ],
   "source": [
    "# Get information via API\n",
    "citation_expect = author_link_vals(author_ids)\n",
    "\n",
    "#DictTable(citation_expect)\n",
    "citation_expect"
   ]
  },
  {
   "cell_type": "code",
   "execution_count": 6,
   "metadata": {
    "scrolled": true
   },
   "outputs": [
    {
     "name": "stdout",
     "output_type": "stream",
     "text": [
      "       CitationCount  ReferenceCount\n",
      "count     137.000000      137.000000\n",
      "mean       20.832117       19.204380\n",
      "std        46.947964       26.841347\n",
      "min         0.000000        0.000000\n",
      "25%         0.000000        1.000000\n",
      "50%         3.000000       10.000000\n",
      "75%        16.000000       25.000000\n",
      "max       318.000000      153.000000\n",
      "\n",
      "Totals\n",
      "CitationCount     2854\n",
      "ReferenceCount    2631\n",
      "dtype: int64\n"
     ]
    }
   ],
   "source": [
    "# Get links from graph\n",
    "graph_links = link_pandas(link_from_graph(paper_ids))\n",
    "graph_links['CitationCount']  = graph_links.apply(lambda x: len(x['Citations']), axis=1)\n",
    "graph_links['ReferenceCount'] = graph_links.apply(lambda x: len(x['References']), axis=1)\n",
    "\n",
    "# Summary of graph links\n",
    "print(graph_links.describe())\n",
    "print()\n",
    "print('Totals')\n",
    "print(graph_links.agg({'CitationCount': np.sum, 'ReferenceCount': np.sum}))"
   ]
  },
  {
   "cell_type": "code",
   "execution_count": 30,
   "metadata": {
    "scrolled": true
   },
   "outputs": [
    {
     "name": "stdout",
     "output_type": "stream",
     "text": [
      "       CitationCount  ReferenceCount\n",
      "count     137.000000      137.000000\n",
      "mean       34.627737       22.678832\n",
      "std        74.321441       27.285510\n",
      "min         0.000000        0.000000\n",
      "25%         1.000000        7.000000\n",
      "50%         9.000000       15.000000\n",
      "75%        25.000000       28.000000\n",
      "max       527.000000      156.000000\n",
      "\n",
      "Totals\n",
      "CitationCount     4744\n",
      "ReferenceCount    3107\n",
      "dtype: int64\n"
     ]
    }
   ],
   "source": [
    "# Get links from graph\n",
    "eval_links = link_pandas(link_from_evaluate(paper_ids))\n",
    "eval_links['CitationCount']  = eval_links.apply(lambda x: len(x['Citations']), axis=1)\n",
    "eval_links['ReferenceCount'] = eval_links.apply(lambda x: len(x['References']), axis=1)\n",
    "\n",
    "# Summary of graph links\n",
    "print(eval_links.describe())\n",
    "print()\n",
    "print('Totals')\n",
    "print(eval_links.agg({'CitationCount': np.sum, 'ReferenceCount': np.sum}))"
   ]
  },
  {
   "cell_type": "code",
   "execution_count": 32,
   "metadata": {},
   "outputs": [
    {
     "name": "stdout",
     "output_type": "stream",
     "text": [
      "       UniqueCitationsEvalCount  UniqueCitationsGraphCount  \\\n",
      "count                137.000000                 137.000000   \n",
      "mean                   4.226277                   0.211679   \n",
      "std                    9.795702                   0.919004   \n",
      "min                    0.000000                   0.000000   \n",
      "25%                    0.000000                   0.000000   \n",
      "50%                    1.000000                   0.000000   \n",
      "75%                    4.000000                   0.000000   \n",
      "max                   70.000000                   8.000000   \n",
      "\n",
      "       UniqueReferencesEvalCount  UniqueReferencesGraphCount  \n",
      "count                 137.000000                  137.000000  \n",
      "mean                    3.832117                    0.357664  \n",
      "std                     9.470985                    2.024618  \n",
      "min                     0.000000                    0.000000  \n",
      "25%                     0.000000                    0.000000  \n",
      "50%                     0.000000                    0.000000  \n",
      "75%                     2.000000                    0.000000  \n",
      "max                    53.000000                   23.000000  \n",
      "\n",
      "Totals\n",
      "UniqueCitationsEvalCount      579\n",
      "UniqueCitationsGraphCount      29\n",
      "UniqueReferencesEvalCount     525\n",
      "UniqueReferencesGraphCount     49\n",
      "dtype: int64\n"
     ]
    }
   ],
   "source": [
    "# Find difference between data\n",
    "set_diff  = lambda x,y: list(set(x) - set(y))\n",
    "get_total = lambda x,y: list((x + y))\n",
    "\n",
    "link_diff = pd.merge(graph_links, eval_links, on='PaperId', suffixes=('Graph', 'Eval'))\n",
    "link_diff['UniqueCitationsGraph'] = link_diff.apply(lambda x: set_diff(x['CitationsGraph'], x['CitationsEval']), axis=1)\n",
    "link_diff['UniqueCitationsEval']  = link_diff.apply(lambda x: set_diff(x['CitationsEval'], x['CitationsGraph']), axis=1)\n",
    "#link_diff['TotalCitations']       = link_diff.apply(lambda x: get_total(x['CitationsEval'], x['CitationsGraph']), axis=1)\n",
    "\n",
    "link_diff['UniqueReferencesGraph'] = link_diff.apply(lambda x: set_diff(x['ReferencesGraph'], x['ReferencesEval']), axis=1)\n",
    "link_diff['UniqueReferencesEval']  = link_diff.apply(lambda x: set_diff(x['ReferencesEval'], x['ReferencesGraph']), axis=1)\n",
    "#link_diff['TotalReferences']       = link_diff.apply(lambda x: get_total(x['ReferencesEval'], x['ReferencesGraph']), axis=1)\n",
    "\n",
    "cols = ['UniqueCitationsEval', 'UniqueCitationsGraph',# 'TotalCitations',\n",
    "        'UniqueReferencesEval', 'UniqueReferencesGraph',]# 'TotalReferences']\n",
    "link_diff = link_diff[cols]\n",
    "\n",
    "# Aggregate prep\n",
    "agg_list = dict()\n",
    "for col in cols:\n",
    "    link_diff[col+'Count']  = link_diff.apply(lambda x: len(x[col]), axis=1)\n",
    "    agg_list[col+'Count'] = np.sum\n",
    "\n",
    "# Summary of link difference\n",
    "print(link_diff.describe())\n",
    "print()\n",
    "print('Totals')\n",
    "print(link_diff.agg(agg_list))"
   ]
  }
 ],
 "metadata": {
  "kernelspec": {
   "display_name": "Python 3",
   "language": "python",
   "name": "python3"
  },
  "language_info": {
   "codemirror_mode": {
    "name": "ipython",
    "version": 3
   },
   "file_extension": ".py",
   "mimetype": "text/x-python",
   "name": "python",
   "nbconvert_exporter": "python",
   "pygments_lexer": "ipython3",
   "version": "3.6.5"
  }
 },
 "nbformat": 4,
 "nbformat_minor": 2
}
