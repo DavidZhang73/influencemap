{
 "cells": [
  {
   "cell_type": "code",
   "execution_count": 7,
   "metadata": {},
   "outputs": [],
   "source": [
    "# Imports\n",
    "import itertools\n",
    "import functools\n",
    "import multiprocess\n",
    "import numpy as np\n",
    "\n",
    "from research.data.data          import *\n",
    "from research.data.utils         import *\n",
    "from core.utils.entity_type      import Entity_type\n",
    "from core.search.query_paper_mag import paper_mag_multiquery\n",
    "from core.search.query_info      import paper_info_mag_check_multiquery"
   ]
  },
  {
   "cell_type": "code",
   "execution_count": 8,
   "metadata": {},
   "outputs": [],
   "source": [
    "# Inputs\n",
    "THREADS    = 8\n",
    "BATCH_SIZE = 40\n",
    "\n",
    "# List of authors\n",
    "author_name_list = ['stephen m blackburn', 'k r catchpole',\n",
    "                    'brendan d mckay', 'Andrew Blakers',\n",
    "                    'Brian D. O. Anderson', 'Wojciech Lipinski',\n",
    "                    'Robert C. Williamson', 'G.D. Farquhar',\n",
    "                    'Chennupati Jagadish', 'C. Jagadish',\n",
    "                    'Susan M. Scott', 'S. M. Scott',\n",
    "                    'Peter M.W. Gill', 'Philip Pettit',\n",
    "                    'Craig Moritz', 'David B. Lindenmayer',\n",
    "                    'David Lindenmayer', 'Anna Wierzbicka']\n",
    "author_name_list = list(map(name_normalise, author_name_list))\n",
    "\n",
    "# Additional paper ids to cache\n",
    "extra_papers = []"
   ]
  },
  {
   "cell_type": "code",
   "execution_count": 9,
   "metadata": {},
   "outputs": [
    {
     "name": "stdout",
     "output_type": "stream",
     "text": [
      "Number of author ids generated: 567\n"
     ]
    }
   ],
   "source": [
    "# Get map from names -> author ids\n",
    "name_maps = get_author_ids(author_name_list)\n",
    "\n",
    "print('Number of author ids generated:', np.sum(list(map(len, name_maps.values()))))"
   ]
  },
  {
   "cell_type": "code",
   "execution_count": 4,
   "metadata": {},
   "outputs": [
    {
     "name": "stdout",
     "output_type": "stream",
     "text": [
      "return statue: 403\n",
      "{'Ocp-Apim-Subscription-Key': '609ec536d4fc427988d33aa4401ec4e2'}\n",
      "ERROR: problem with the request.\n",
      "b'\\n{ \"error\": { \"code\": \"QuotaExceeded\", \"message\": \"Out of call volume quota. Quota will be replenished later.\" } }\\n\\t\\t        \\t\\t\\t\\t  '\n"
     ]
    },
    {
     "ename": "KeyError",
     "evalue": "'entities'",
     "output_type": "error",
     "traceback": [
      "\u001b[0;31m---------------------------------------------------------------------------\u001b[0m",
      "\u001b[0;31mKeyError\u001b[0m                                  Traceback (most recent call last)",
      "\u001b[0;32m<ipython-input-4-f3c3696875ee>\u001b[0m in \u001b[0;36m<module>\u001b[0;34m()\u001b[0m\n\u001b[1;32m      2\u001b[0m \u001b[0mpapers_to_cache\u001b[0m \u001b[0;34m=\u001b[0m \u001b[0mset\u001b[0m\u001b[0;34m(\u001b[0m\u001b[0;34m)\u001b[0m\u001b[0;34m\u001b[0m\u001b[0m\n\u001b[1;32m      3\u001b[0m \u001b[0;32mfor\u001b[0m \u001b[0mname\u001b[0m\u001b[0;34m,\u001b[0m \u001b[0mauthor_ids\u001b[0m \u001b[0;32min\u001b[0m \u001b[0mname_maps\u001b[0m\u001b[0;34m.\u001b[0m\u001b[0mitems\u001b[0m\u001b[0;34m(\u001b[0m\u001b[0;34m)\u001b[0m\u001b[0;34m:\u001b[0m\u001b[0;34m\u001b[0m\u001b[0m\n\u001b[0;32m----> 4\u001b[0;31m     \u001b[0mpapers_to_cache\u001b[0m\u001b[0;34m.\u001b[0m\u001b[0mupdate\u001b[0m\u001b[0;34m(\u001b[0m\u001b[0mpaper_mag_multiquery\u001b[0m\u001b[0;34m(\u001b[0m\u001b[0mEntity_type\u001b[0m\u001b[0;34m.\u001b[0m\u001b[0mAUTH\u001b[0m\u001b[0;34m,\u001b[0m \u001b[0mauthor_ids\u001b[0m\u001b[0;34m)\u001b[0m\u001b[0;34m)\u001b[0m\u001b[0;34m\u001b[0m\u001b[0m\n\u001b[0m\u001b[1;32m      5\u001b[0m \u001b[0mpapers_to_cache\u001b[0m\u001b[0;34m.\u001b[0m\u001b[0mupdate\u001b[0m\u001b[0;34m(\u001b[0m\u001b[0mextra_papers\u001b[0m\u001b[0;34m)\u001b[0m\u001b[0;34m\u001b[0m\u001b[0m\n\u001b[1;32m      6\u001b[0m \u001b[0mpapers_to_cache\u001b[0m \u001b[0;34m=\u001b[0m \u001b[0mlist\u001b[0m\u001b[0;34m(\u001b[0m\u001b[0mpapers_to_cache\u001b[0m\u001b[0;34m)\u001b[0m\u001b[0;34m\u001b[0m\u001b[0m\n",
      "\u001b[0;32m~/influencemap/core/search/query_paper_mag.py\u001b[0m in \u001b[0;36mpaper_mag_multiquery\u001b[0;34m(entity_type, entity_ids)\u001b[0m\n\u001b[1;32m    315\u001b[0m     \u001b[0;31m# Author\u001b[0m\u001b[0;34m\u001b[0m\u001b[0;34m\u001b[0m\u001b[0m\n\u001b[1;32m    316\u001b[0m     \u001b[0;32mif\u001b[0m \u001b[0mentity_type\u001b[0m \u001b[0;34m==\u001b[0m \u001b[0mEntity_type\u001b[0m\u001b[0;34m.\u001b[0m\u001b[0mAUTH\u001b[0m\u001b[0;34m:\u001b[0m\u001b[0;34m\u001b[0m\u001b[0m\n\u001b[0;32m--> 317\u001b[0;31m         \u001b[0;32mreturn\u001b[0m \u001b[0mauthor_paper_mag_multiquery\u001b[0m\u001b[0;34m(\u001b[0m\u001b[0mentity_ids\u001b[0m\u001b[0;34m)\u001b[0m\u001b[0;34m\u001b[0m\u001b[0m\n\u001b[0m\u001b[1;32m    318\u001b[0m \u001b[0;34m\u001b[0m\u001b[0m\n\u001b[1;32m    319\u001b[0m     \u001b[0;31m# Affiliation\u001b[0m\u001b[0;34m\u001b[0m\u001b[0;34m\u001b[0m\u001b[0m\n",
      "\u001b[0;32m~/influencemap/core/search/query_paper_mag.py\u001b[0m in \u001b[0;36mauthor_paper_mag_multiquery\u001b[0;34m(author_ids)\u001b[0m\n\u001b[1;32m    189\u001b[0m \u001b[0;34m\u001b[0m\u001b[0m\n\u001b[1;32m    190\u001b[0m             \u001b[0;31m# Check if no more data\u001b[0m\u001b[0;34m\u001b[0m\u001b[0;34m\u001b[0m\u001b[0m\n\u001b[0;32m--> 191\u001b[0;31m             \u001b[0;32mif\u001b[0m \u001b[0mlen\u001b[0m\u001b[0;34m(\u001b[0m\u001b[0mdata\u001b[0m\u001b[0;34m[\u001b[0m\u001b[0;34m'entities'\u001b[0m\u001b[0;34m]\u001b[0m\u001b[0;34m)\u001b[0m \u001b[0;34m>\u001b[0m \u001b[0;36m0\u001b[0m\u001b[0;34m:\u001b[0m\u001b[0;34m\u001b[0m\u001b[0m\n\u001b[0m\u001b[1;32m    192\u001b[0m                 \u001b[0mcount\u001b[0m \u001b[0;34m+=\u001b[0m \u001b[0mlen\u001b[0m\u001b[0;34m(\u001b[0m\u001b[0mdata\u001b[0m\u001b[0;34m[\u001b[0m\u001b[0;34m'entities'\u001b[0m\u001b[0;34m]\u001b[0m\u001b[0;34m)\u001b[0m\u001b[0;34m\u001b[0m\u001b[0m\n\u001b[1;32m    193\u001b[0m             \u001b[0;32melse\u001b[0m\u001b[0;34m:\u001b[0m\u001b[0;34m\u001b[0m\u001b[0m\n",
      "\u001b[0;31mKeyError\u001b[0m: 'entities'"
     ]
    }
   ],
   "source": [
    "# Generate paper ids to generate in cache\n",
    "papers_to_cache = set()\n",
    "for name, author_ids in name_maps.items():\n",
    "    papers_to_cache.update(paper_mag_multiquery(Entity_type.AUTH, author_ids))\n",
    "papers_to_cache.update(extra_papers)\n",
    "papers_to_cache = list(papers_to_cache)\n",
    "\n",
    "print('Number of paper ids generated:', len(papers_to_cache))"
   ]
  },
  {
   "cell_type": "code",
   "execution_count": null,
   "metadata": {},
   "outputs": [],
   "source": [
    "# Set up caching process for paper ids\n",
    "p = multiprocess.Pool(THREADS)\n",
    "    \n",
    "# Set up for threads\n",
    "batches = (papers_to_cache[i:i+BATCH_SIZE] for i in \\\n",
    "               range(0, len(papers_to_cache), BATCH_SIZE))\n",
    "\n",
    "# Batch job with enumeration\n",
    "def job(enum_input):\n",
    "    batch_number, batch = enum_input\n",
    "    print('Starting batch job:', batch_number, '| Size:', len(batch))\n",
    "    res = paper_info_mag_check_multiquery(batch)\n",
    "    print('Finishing batch job:', batch_number)\n",
    "    return res\n",
    "\n",
    "batch_res = p.map(job, list(enumerate(batches)))\n",
    "paper_information = functools.reduce(lambda x, y: x + y, batch_res)"
   ]
  }
 ],
 "metadata": {
  "kernelspec": {
   "display_name": "Python 3",
   "language": "python",
   "name": "python3"
  },
  "language_info": {
   "codemirror_mode": {
    "name": "ipython",
    "version": 3
   },
   "file_extension": ".py",
   "mimetype": "text/x-python",
   "name": "python",
   "nbconvert_exporter": "python",
   "pygments_lexer": "ipython3",
   "version": "3.6.5"
  }
 },
 "nbformat": 4,
 "nbformat_minor": 2
}
