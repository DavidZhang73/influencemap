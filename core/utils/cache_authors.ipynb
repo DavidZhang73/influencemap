{
 "cells": [
  {
   "cell_type": "code",
   "execution_count": 8,
   "metadata": {},
   "outputs": [],
   "source": [
    "# Imports\n",
    "import itertools\n",
    "import functools\n",
    "import multiprocess\n",
    "\n",
    "from research.data.data          import *\n",
    "from research.data.utils         import *\n",
    "from core.utils.entity_type      import Entity_type\n",
    "from core.search.query_paper_mag import paper_mag_multiquery\n",
    "from core.search.query_info      import paper_info_mag_check_multiquery"
   ]
  },
  {
   "cell_type": "code",
   "execution_count": 2,
   "metadata": {},
   "outputs": [],
   "source": [
    "# Inputs\n",
    "THREADS    = 8\n",
    "BATCH_SIZE = 40\n",
    "\n",
    "# List of authors\n",
    "author_name_list = ['lexing xie']\n",
    "author_name_list = list(map(name_normalise, author_name_list))\n",
    "\n",
    "# Additional paper ids to cache\n",
    "extra_papers = []"
   ]
  },
  {
   "cell_type": "code",
   "execution_count": 3,
   "metadata": {},
   "outputs": [
    {
     "name": "stdout",
     "output_type": "stream",
     "text": [
      "return statue: 429\n",
      "{'Ocp-Apim-Subscription-Key': '7e6d891a407d4085b692b006812b325c'}\n",
      "ERROR: problem with the request.\n",
      "b'\\n{ \"error\": { \"code\": \"RateLimitExceeded\", \"message\": \"Rate limit is exceeded. Try again later.\" } }\\n\\t\\t        \\t\\t\\t\\t  '\n",
      "return statue: 429\n",
      "{'Ocp-Apim-Subscription-Key': 'ce7734c51f504dcaa1dd89cb88fa153d'}\n",
      "ERROR: problem with the request.\n",
      "b'\\n{ \"error\": { \"code\": \"RateLimitExceeded\", \"message\": \"Rate limit is exceeded. Try again later.\" } }\\n\\t\\t        \\t\\t\\t\\t  '\n",
      "return statue: 429\n",
      "{'Ocp-Apim-Subscription-Key': 'a93546317d654a5fbe7d569b6b5bb8c1'}\n",
      "ERROR: problem with the request.\n",
      "b'\\n{ \"error\": { \"code\": \"RateLimitExceeded\", \"message\": \"Rate limit is exceeded. Try again later.\" } }\\n\\t\\t        \\t\\t\\t\\t  '\n",
      "return statue: 429\n",
      "{'Ocp-Apim-Subscription-Key': '9c0c0c5e7758484b9ed8092034eac796'}\n",
      "ERROR: problem with the request.\n",
      "b'\\n{ \"error\": { \"code\": \"RateLimitExceeded\", \"message\": \"Rate limit is exceeded. Try again later.\" } }\\n\\t\\t        \\t\\t\\t\\t  '\n",
      "return statue: 429\n",
      "{'Ocp-Apim-Subscription-Key': '5ddf6b2268634ffebddea3d19f71b39a'}\n",
      "ERROR: problem with the request.\n",
      "b'\\n{ \"error\": { \"code\": \"RateLimitExceeded\", \"message\": \"Rate limit is exceeded. Try again later.\" } }\\n\\t\\t        \\t\\t\\t\\t  '\n",
      "Number of author ids generated: 1\n"
     ]
    }
   ],
   "source": [
    "# Get map from names -> author ids\n",
    "name_maps = get_author_ids(author_name_list)\n",
    "\n",
    "print('Number of author ids generated:', len(name_maps.values()))"
   ]
  },
  {
   "cell_type": "code",
   "execution_count": 6,
   "metadata": {},
   "outputs": [
    {
     "name": "stdout",
     "output_type": "stream",
     "text": [
      "return statue: 429\n",
      "{'Ocp-Apim-Subscription-Key': '609ec536d4fc427988d33aa4401ec4e2'}\n",
      "ERROR: problem with the request.\n",
      "b'\\n{ \"error\": { \"code\": \"RateLimitExceeded\", \"message\": \"Rate limit is exceeded. Try again later.\" } }\\n\\t\\t        \\t\\t\\t\\t  '\n",
      "return statue: 429\n",
      "{'Ocp-Apim-Subscription-Key': 'ce7734c51f504dcaa1dd89cb88fa153d'}\n",
      "ERROR: problem with the request.\n",
      "b'\\n{ \"error\": { \"code\": \"RateLimitExceeded\", \"message\": \"Rate limit is exceeded. Try again later.\" } }\\n\\t\\t        \\t\\t\\t\\t  '\n",
      "return statue: 429\n",
      "{'Ocp-Apim-Subscription-Key': 'ca91ddafcfc9414cbc0a475f0e49f8a6'}\n",
      "ERROR: problem with the request.\n",
      "b'\\n{ \"error\": { \"code\": \"RateLimitExceeded\", \"message\": \"Rate limit is exceeded. Try again later.\" } }\\n\\t\\t        \\t\\t\\t\\t  '\n",
      "return statue: 429\n",
      "{'Ocp-Apim-Subscription-Key': '70cd26b4b7e749f7bf036430b4762fec'}\n",
      "ERROR: problem with the request.\n",
      "b'\\n{ \"error\": { \"code\": \"RateLimitExceeded\", \"message\": \"Rate limit is exceeded. Try again later.\" } }\\n\\t\\t        \\t\\t\\t\\t  '\n",
      "Number of paper ids generated: 158\n"
     ]
    }
   ],
   "source": [
    "# Generate paper ids to generate in cache\n",
    "papers_to_cache = set()\n",
    "for name, author_ids in name_maps.items():\n",
    "    papers_to_cache.update(paper_mag_multiquery(Entity_type.AUTH, author_ids))\n",
    "papers_to_cache.update(extra_papers)\n",
    "papers_to_cache = list(papers_to_cache)\n",
    "\n",
    "print('Number of paper ids generated:', len(papers_to_cache))"
   ]
  },
  {
   "cell_type": "code",
   "execution_count": 11,
   "metadata": {},
   "outputs": [
    {
     "name": "stdout",
     "output_type": "stream",
     "text": [
      "Starting batch job: 0 | Size: 40\n",
      "Starting batch job: 1 | Size: 40\n",
      "Starting batch job: 2 | Size: 40\n",
      "Starting batch job: 3 | Size: 38\n",
      "To call API: 0\n",
      "Finishing batch job: 0\n",
      "To call API: 0\n",
      "Finishing batch job: 3\n",
      "To call API: 0\n",
      "Finishing batch job: 2\n",
      "To call API: 0\n",
      "Finishing batch job: 1\n"
     ]
    }
   ],
   "source": [
    "# Set up caching process for paper ids\n",
    "p = multiprocess.Pool(THREADS)\n",
    "    \n",
    "# Set up for threads\n",
    "batches = (papers_to_cache[i:i+BATCH_SIZE] for i in \\\n",
    "               range(0, len(papers_to_cache), BATCH_SIZE))\n",
    "\n",
    "# Batch job with enumeration\n",
    "def job(enum_input):\n",
    "    batch_number, batch = enum_input\n",
    "    print('Starting batch job:', batch_number, '| Size:', len(batch))\n",
    "    res = paper_info_mag_check_multiquery(batch)\n",
    "    print('Finishing batch job:', batch_number)\n",
    "    return res\n",
    "\n",
    "batch_res = p.map(job, list(enumerate(batches)))\n",
    "paper_information = functools.reduce(lambda x, y: x + y, batch_res)"
   ]
  }
 ],
 "metadata": {
  "kernelspec": {
   "display_name": "Python 3",
   "language": "python",
   "name": "python3"
  },
  "language_info": {
   "codemirror_mode": {
    "name": "ipython",
    "version": 3
   },
   "file_extension": ".py",
   "mimetype": "text/x-python",
   "name": "python",
   "nbconvert_exporter": "python",
   "pygments_lexer": "ipython3",
   "version": "3.6.5"
  }
 },
 "nbformat": 4,
 "nbformat_minor": 2
}
