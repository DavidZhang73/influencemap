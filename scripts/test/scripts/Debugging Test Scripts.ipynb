{
 "cells": [
  {
   "cell_type": "code",
   "execution_count": 1,
   "metadata": {},
   "outputs": [],
   "source": [
    "# Imports\n",
    "from core.config import *\n",
    "from core.search.mag_interface import *\n",
    "\n",
    "MAS_URL_PREFIX = \"https://api.labs.cognitive.microsoft.com\"\n",
    "url = os.path.join(MAS_URL_PREFIX, \"academic/v1.0/evaluate\")"
   ]
  },
  {
   "cell_type": "code",
   "execution_count": 2,
   "metadata": {},
   "outputs": [
    {
     "name": "stdout",
     "output_type": "stream",
     "text": [
      "{'expr': 'Id=2747135882', 'entities': [{'logprob': -21.015, 'Id': 2747135882, 'Ti': 'high flux optical systems for solar thermochemistry'}]}\n"
     ]
    }
   ],
   "source": [
    "# Find paper names\n",
    "paper_id = 2747135882\n",
    "\n",
    "query = {\n",
    "    'expr'      : 'Id={}'.format(paper_id),\n",
    "    'count'     : 1,\n",
    "    'offset'    : 0,\n",
    "    'attributes': 'Ti'\n",
    "}\n",
    "\n",
    "data = query_academic_search('get', url, query)\n",
    "\n",
    "print(data)"
   ]
  },
  {
   "cell_type": "code",
   "execution_count": 3,
   "metadata": {},
   "outputs": [
    {
     "name": "stdout",
     "output_type": "stream",
     "text": [
      "{'expr': 'RId=2747135882', 'entities': [{'logprob': -21.64, 'Id': 2788750595, 'RId': [1516460738, 2052989605, 2008624509, 2126524277, 1986229972, 1986859383, 2121082943, 2074057609, 1969689829, 2060018992, 2073244242, 1986963983, 2015682556, 1971332796, 2084744394, 2044914162, 1998277481, 2169189912, 171260444, 2015827483, 2089124982, 1120801388, 2135006005, 1972591051, 1812729199, 2068015815, 2013008835, 2014484129, 2277555655, 2618550242, 2555990107, 1970594223, 2751893488, 2206597992, 1121021787, 2082425299, 2030114442, 829055464, 2530528476, 2513401070, 2081246734, 2747135882, 2551464536, 2738978407, 2080812797, 1911735896, 1977728070, 1965941474, 2612546432, 2774997576, 2777510846]}, {'logprob': -22.056, 'Id': 2792905515, 'RId': [1516460738, 2008624509, 1967712992, 1988933206, 1986229972, 2040229875, 1986859383, 2121082943, 2074057609, 2038310959, 2062117447, 1970920367, 2259119442, 2066617099, 2015682556, 2001300652, 2159388053, 2001924000, 2084744394, 2015827483, 1120801388, 2135006005, 1972591051, 1812729199, 2530932687, 2021212805, 2013008835, 2051039113, 2066046875, 2014484129, 1880457346, 2141404880, 2284595144, 2751893488, 2206597992, 2030114442, 2190761674, 2606141086, 2530528476, 2619565789, 2548048905, 2747135882, 2738978407, 2624452344, 2606224275, 2080812797, 2766947490, 1895385566, 2053437700, 2714618610, 2543322715, 2763968243, 2788750595, 2046680343, 2792775857]}]}\n"
     ]
    }
   ],
   "source": [
    "# Get References\n",
    "query = {\n",
    "    'expr'      : 'RId={}'.format(paper_id),\n",
    "    'count'     : 100,\n",
    "    'offset'    : 0,\n",
    "    'attributes': 'Id,RId'\n",
    "}\n",
    "\n",
    "data = query_academic_search('get', url, query)\n",
    "\n",
    "print(data)"
   ]
  },
  {
   "cell_type": "code",
   "execution_count": 19,
   "metadata": {},
   "outputs": [],
   "source": [
    "# Update ES to remove the repeated citation\n",
    "from graph.config              import conf\n",
    "from core.search.query_utility import field_del\n",
    "from elasticsearch             import Elasticsearch\n",
    "from elasticsearch_dsl         import Search\n",
    "from core.search.cache_data    import cache_paper_info\n",
    "\n",
    "client = Elasticsearch(conf.get(\"elasticsearch.hostname\"))\n",
    "\n",
    "search = Search(index = 'paper_info', using = client)\n",
    "#search = search.from_dict({\"query\": {\"match_all\": {}}})\n",
    "\n",
    "to_cache = list()\n",
    "processed = 0\n",
    "\n",
    "for res in search.scan():\n",
    "    paper_info = res.to_dict()\n",
    "    processed += 1\n",
    "    \n",
    "    field_del(paper_info, 'CreatedDate')\n",
    "    \n",
    "    cite_dict = dict()\n",
    "    for cite_info in paper_info['Citations']:\n",
    "        cite_dict[cite_info['PaperId']] = cite_info\n",
    "        \n",
    "    cite_papers = list(cite_dict.keys())\n",
    "    if len(cite_papers) != len(paper_info['Citations']):\n",
    "        print(processed, paper_info['PaperId'], \"---\")\n",
    "        new_cites = list()\n",
    "        for paper_id in set(cite_papers):\n",
    "            new_cites.append(cite_dict[paper_id])\n",
    "        \n",
    "        paper_info['Citations'] = new_cites\n",
    "        to_cache.append(paper_info)\n"
   ]
  },
  {
   "cell_type": "code",
   "execution_count": 20,
   "metadata": {},
   "outputs": [
    {
     "name": "stdout",
     "output_type": "stream",
     "text": [
      "Total processed: 20609\n",
      "To cache: 0\n"
     ]
    }
   ],
   "source": [
    "print(\"Total processed:\", processed)\n",
    "print(\"To cache:\", len(to_cache))"
   ]
  },
  {
   "cell_type": "code",
   "execution_count": 18,
   "metadata": {},
   "outputs": [
    {
     "name": "stdout",
     "output_type": "stream",
     "text": [
      "Total processed: 20609\n",
      "To cache: 5137\n"
     ]
    }
   ],
   "source": [
    "import multiprocess\n",
    "\n",
    "# Params for paper information\n",
    "THREADS    = 8\n",
    "BATCH_SIZE = 40\n",
    "\n",
    "# Generate paper information for conference\n",
    "p = multiprocess.Pool(THREADS)\n",
    "\n",
    "# Set up for threads\n",
    "batches = (to_cache[i:i+BATCH_SIZE] for i in \\\n",
    "               range(0, len(to_cache), BATCH_SIZE))\n",
    "\n",
    "batch_res = p.map(cache_paper_info, batches)"
   ]
  }
 ],
 "metadata": {
  "kernelspec": {
   "display_name": "Python 3",
   "language": "python",
   "name": "python3"
  },
  "language_info": {
   "codemirror_mode": {
    "name": "ipython",
    "version": 3
   },
   "file_extension": ".py",
   "mimetype": "text/x-python",
   "name": "python",
   "nbconvert_exporter": "python",
   "pygments_lexer": "ipython3",
   "version": "3.6.5"
  }
 },
 "nbformat": 4,
 "nbformat_minor": 2
}
